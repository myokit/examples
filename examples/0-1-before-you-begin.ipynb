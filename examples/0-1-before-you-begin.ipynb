{
 "cells": [
  {
   "cell_type": "markdown",
   "metadata": {},
   "source": [
    "# Before you begin"
   ]
  },
  {
   "cell_type": "markdown",
   "metadata": {},
   "source": [
    "These notebooks assume you have a basic familiarity with Python, and are comfortable writing and running Python scripts.\n",
    "**In this case, you'll probably want to skip this notebook and dive right in.**\n",
    "\n",
    "If you're not fluent in Python -- don't worry!\n",
    "The required level of Python knowledge is not very high, and chances are you'll pick it up as you go along (especially if you already have experience programming in another language).\n",
    "\n",
    "There are three basic ways to run these examples:\n",
    "\n",
    "1. Download and modify the example notebooks\n",
    "2. Copy example code into external Python scripts\n",
    "3. Copy example code into the Myokit IDE\n",
    "\n",
    "The first and second methods are recommended for readers who have used Python (and/or jupyter) before, the third method might be easiest if you are new to Python or prefer working in a graphical user interface."
   ]
  },
  {
   "cell_type": "markdown",
   "metadata": {},
   "source": [
    "## Installing Myokit and downloading the examples"
   ]
  },
  {
   "cell_type": "markdown",
   "metadata": {},
   "source": [
    "All three methods require you to\n",
    "\n",
    "- Install the Python `myokit` module using `pip`, as explained in Myokit's [installation instructions](http://myokit.org/install).\n",
    "- Download these examples (and the required model files) from github, either by cloning the repository or by downloading and unpacking a zip file -- both options are accessible by clicking the green \"Code\" button on [this page](https://github.com/myokit/myokit-examples)."
   ]
  },
  {
   "cell_type": "markdown",
   "metadata": {},
   "source": [
    "## Method 1: Modifying the example notebooks"
   ]
  },
  {
   "cell_type": "markdown",
   "metadata": {},
   "source": [
    "For this method, you'll need to have [Jupyter Notebook](https://jupyter.org/) installed.\n",
    "Then, simply start jupyter (e.g. by typing `jupyter notebook` from the console), navigate to where you downloaded the notebooks, and begin."
   ]
  },
  {
   "cell_type": "markdown",
   "metadata": {},
   "source": [
    "## Method 2: Using external scripts"
   ]
  },
  {
   "cell_type": "markdown",
   "metadata": {},
   "source": [
    "Create a new Python script, and either\n",
    "\n",
    "1. Store it in the same directory as the example notebooks, or\n",
    "2. Modify any copied paths so that e.g. `models/ohara-2011.mmt` resolves to a downloaded model file."
   ]
  },
  {
   "cell_type": "markdown",
   "metadata": {},
   "source": [
    "## Method 3: Using Myokit's IDE"
   ]
  },
  {
   "cell_type": "markdown",
   "metadata": {},
   "source": [
    "Myokit's IDE is a graphical user interface that lets you edit Myokit models and run simulations.\n",
    "\n",
    "If you've installed shortcut icons, you can start it by selecting \"Myokit IDE\" from the start menu or applications panel.\n",
    "If not, you should be able to start it by typing `python3 -m myokit ide` on the command line (or `myokit ide` for short).\n",
    "\n",
    "Once you've opened the IDE, create a new file and delete _all text_ on the \"Model definition\" and \"Protocol definition\" tabs.\n",
    "Next, delete _everything except the line ``[[script]]``_ from the \"Embedded script\" tab.\n",
    "\n",
    "Now save the file you've created in the same directory where you've downloaded the notebooks (e.g. `my-favourite-files/myokit-examples/examples`).\n",
    "\n",
    "From this point on, you should be able to copy code from the example notebooks into the IDE (below the line ``[[script]]``), and run it without problems.\n",
    "For example, copy pasting the code below should produce the shown output:"
   ]
  },
  {
   "cell_type": "code",
   "execution_count": 2,
   "metadata": {},
   "outputs": [
    {
     "data": {
      "image/png": "[encoded data removed]",
      "text/plain": [
       "<Figure size 432x288 with 1 Axes>"
      ]
     },
     "metadata": {
      "needs_background": "light"
     },
     "output_type": "display_data"
    }
   ],
   "source": [
    "import matplotlib.pyplot as plt\n",
    "import myokit\n",
    "\n",
    "m, p, x = myokit.load('models/beeler-1977.mmt')\n",
    "s = myokit.Simulation(m, p)\n",
    "d = s.run(1000)\n",
    "\n",
    "plt.figure()\n",
    "plt.plot(d.time(), d['membrane.V'])\n",
    "plt.show()"
   ]
  }
 ],
 "metadata": {
  "kernelspec": {
   "display_name": "Python 3",
   "language": "python",
   "name": "python3"
  },
  "language_info": {
   "codemirror_mode": {
    "name": "ipython",
    "version": 3
   },
   "file_extension": ".py",
   "mimetype": "text/x-python",
   "name": "python",
   "nbconvert_exporter": "python",
   "pygments_lexer": "ipython3",
   "version": "3.9.7"
  }
 },
 "nbformat": 4,
 "nbformat_minor": 2
}

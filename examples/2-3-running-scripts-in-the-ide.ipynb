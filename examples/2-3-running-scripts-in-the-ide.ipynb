{
 "cells": [
  {
   "cell_type": "markdown",
   "metadata": {},
   "source": [
    "# Running scripts in the IDE"
   ]
  },
  {
   "cell_type": "markdown",
   "metadata": {},
   "source": [
    "This short notebook explains how to run scripts in the IDE, and discusses the pros and cons of using Myokit's embedded script feature.\n",
    "\n",
    "Myokit `.mmt` files can contain a Model, Protocol, and/or embedded script.\n",
    "If present, the script is shown on the \"Embedded script\" tab.\n",
    "Scripts must start with the header `[[script]]`, but can then contain any old Python code -- even Python code that doesn't use Myokit or does dangerous things like deleting your favourite files!\n",
    "\n",
    "There are three main differences between using the script tab or using external Python scripts:\n",
    "\n",
    "1. In the script tab, you can access the model and protocol via `get_model()` and `get_protocol()`. In external Python scripts you must use `myokit.load_model()` and `myokit.load_protocol()` (or `myokit.load()`).    \n",
    "2. In the IDE, some feedback on simulation progress is provided via a progress bar. This is not enabled by default in external scripts.\n",
    "3. The \"embedded script\" is packaged in a single file with the model and protocol.\n",
    "\n",
    "Points 2 and 3 are discussed in more detail below."
   ]
  },
  {
   "cell_type": "markdown",
   "metadata": {},
   "source": [
    "## Getting progress updates in external scripts\n",
    "\n",
    "Myokit simulations and some other long-running methods accept a [ProgressReporter](https://myokit.readthedocs.io/en/stable/api_simulations/LongSimulations.html#myokit.ProgressReporter) as an extra argument.\n",
    "This is used to show a progress bar in GUI environments, but can also be used in external scripts to provide some text-based user feedback.\n",
    "An example simulation run with the [ProgressPrinter](https://myokit.readthedocs.io/en/stable/api_simulations/LongSimulations.html#myokit.ProgressPrinter) reporter is shown below:"
   ]
  },
  {
   "cell_type": "code",
   "execution_count": 1,
   "metadata": {},
   "outputs": [
    {
     "name": "stdout",
     "output_type": "stream",
     "text": [
      "[0.0 minutes] 10.1 % done, estimated 0 seconds remaining\n",
      "[0.0 minutes] 12.4 % done, estimated 0 seconds remaining\n",
      "[0.0 minutes] 22.2 % done, estimated 0 seconds remaining\n",
      "[0.0 minutes] 36.1 % done, estimated 0 seconds remaining\n",
      "[0.0 minutes] 58.3 % done, estimated 0 seconds remaining\n",
      "[0.0 minutes] 100.0 % done, estimated 0 seconds remaining\n"
     ]
    }
   ],
   "source": [
    "import myokit\n",
    "model, protocol, _ = myokit.load('models/c/decker-2009.mmt')\n",
    "\n",
    "s = myokit.Simulation(model, protocol)\n",
    "d = s.run(1000, progress=myokit.ProgressPrinter())"
   ]
  },
  {
   "cell_type": "markdown",
   "metadata": {},
   "source": [
    "## Pros and cons of embedded scripts\n",
    "    \n",
    "Myokit's embedded scripts were designed with sharing in mind: A cardiac electrophysiology model downloaded from the internet can be pretty hard to understand unless it's packaged with some good initial conditions, a pacing protocol, and ideally some representative simulation code.\n",
    "\n",
    "However, there is a downside to using embedded scripts, in that they can lead to situations where there are several copies of the same model, potentially with small differences between the model definitions.\n",
    "This has the potential to create unnecessary confusing and/or bookkeeping, and can make it harder to make your work **reproducible**.\n",
    "\n",
    "In general, the following strategy is advised:\n",
    "\n",
    "- Use embedded scripts during development, to play around, and to share early results with colleagues and collaborators.\n",
    "- Write your final simulation code in external Python files that all load and re-use the same model code. Publish these files along with a single copy of the model when you publish your paper!\n",
    "\n",
    "Of course, in many cases you will want to modify a model before running a simulation.\n",
    "Instead of modifying the model code, this can be done _dynamically_, via Myokit's model API.\n",
    "This is the subject of a [later notebook](https://nbviewer.jupyter.org/github/myokit/myokit-examples/blob/main/examples/3-3-using-the-model-api.ipynb)."
   ]
  }
 ],
 "metadata": {
  "kernelspec": {
   "display_name": "Python 3 (ipykernel)",
   "language": "python",
   "name": "python3"
  },
  "language_info": {
   "codemirror_mode": {
    "name": "ipython",
    "version": 3
   },
   "file_extension": ".py",
   "mimetype": "text/x-python",
   "name": "python",
   "nbconvert_exporter": "python",
   "pygments_lexer": "ipython3",
   "version": "3.11.1"
  }
 },
 "nbformat": 4,
 "nbformat_minor": 2
}

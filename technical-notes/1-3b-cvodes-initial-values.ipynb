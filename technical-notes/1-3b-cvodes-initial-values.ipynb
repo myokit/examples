{
 "cells": [
  {
   "cell_type": "markdown",
   "id": "d0500be0",
   "metadata": {},
   "source": [
    "# Technical note: CVODES simulation and initial values"
   ]
  },
  {
   "cell_type": "markdown",
   "id": "f48789f1",
   "metadata": {},
   "source": [
    "A `myokit.Model` defines an initial value problem."
   ]
  },
  {
   "cell_type": "markdown",
   "id": "0cfd9d59",
   "metadata": {},
   "source": [
    "$$\\dot{y} = f(y, p, u(t), t)$$\n",
    "\n",
    "$$y(t = 0) = y_0$$\n",
    "\n",
    "where $y$ is the state, $p$ are the parameters of interest, $u(t)$ are inputs to the model, and $t$ is time."
   ]
  },
  {
   "cell_type": "markdown",
   "id": "80477690",
   "metadata": {},
   "source": [
    "**Note**: It does not specify constraints on $y$ and $p$, e.g. $y_i = [Ca^{2+}]_i \\geq 0$ or $p_j = g_\\text{Kr} \\geq 0$. Instead, it is assumed that the trajectory starting at $y_0$ will stay within the biologically realistic range. The idea that $f$ is a good model only for certain values of $y$ is the reason that models are deemed \"incomplete\" until the modeller has added an initial condition."
   ]
  },
  {
   "cell_type": "markdown",
   "id": "bc50e6ea",
   "metadata": {},
   "source": [
    "A model can contain any number of \"intermediary variables\" (or \"auxilliary functions\"), for example currents.\n",
    "These are calculated from the state, and used in the calculation of $f$, so for performance reasons it makes sense to calculate them just once (in an \"intermediary\" step).\n",
    "Mathematically, it's easier to ignore that detail and think of them as \"outputs\" (or \"derived quantities\"), entirely seperate from $f$:"
   ]
  },
  {
   "cell_type": "markdown",
   "id": "5a8e42cf",
   "metadata": {},
   "source": [
    "$$z = g(y, p, t, u(t))$$"
   ]
  },
  {
   "cell_type": "markdown",
   "id": "ca35631c",
   "metadata": {},
   "source": [
    "### Myokit 1.34: Initial values as functions of $p$"
   ]
  },
  {
   "cell_type": "markdown",
   "id": "4116a1c3",
   "metadata": {},
   "source": [
    "In [Myokit 1.34.0](https://github.com/myokit/myokit/releases/tag/v1.34.0), it became possible to write $y_0$ as a function:"
   ]
  },
  {
   "cell_type": "markdown",
   "id": "ba348e6e",
   "metadata": {},
   "source": [
    "$$y(t = 0) = h(p)$$"
   ]
  },
  {
   "cell_type": "markdown",
   "id": "e760c6e5",
   "metadata": {},
   "source": [
    "## Simulations"
   ]
  },
  {
   "cell_type": "markdown",
   "id": "248209f8",
   "metadata": {},
   "source": [
    "A `myokit.Simulation` integrates an initial value problem to any time $t > 0$."
   ]
  },
  {
   "cell_type": "markdown",
   "id": "4e4834c1",
   "metadata": {},
   "source": [
    "It can also calculate sensitivities of outputs with respect to parameters:"
   ]
  },
  {
   "cell_type": "markdown",
   "id": "12560c95",
   "metadata": {},
   "source": [
    "$$\\frac{\\partial{z_i}}{\\partial{p_j}}$$"
   ]
  },
  {
   "cell_type": "markdown",
   "id": "ceae04bd",
   "metadata": {},
   "source": [
    "To do so, it internally calculates the full set of state sensitivities, by **solving another initial value problem**:"
   ]
  },
  {
   "cell_type": "markdown",
   "id": "7d173c8d",
   "metadata": {},
   "source": [
    "$$s = \\frac{\\partial{y}}{\\partial{p}}$$"
   ]
  },
  {
   "cell_type": "markdown",
   "id": "434c2c5a",
   "metadata": {},
   "source": [
    "for all states and all parameters of interest, and then calculating $\\frac{\\partial z}{\\partial p}$ using equations derived symbollically from $f$."
   ]
  },
  {
   "cell_type": "markdown",
   "id": "f726fa02",
   "metadata": {},
   "source": [
    "### Myokit 1.36: No more explicit sensitivities w.r.t. $y_0$\n",
    "\n",
    "Before Myokit 1.34, the initial state could not depend on parameters, and so the only way to get the sensitivity of an output w.r.t. an initial condition, was through a seperate mechanism (using `InitialValue` objects or the `init(x)` syntax).\n",
    "After 1.34, the simulation still treated $y_0$ as a scalar, and ignored information from $h$.\n",
    "Starting with version 1.36 the simulation will instead symbolically derive sensitivities of $h$ w.r.t. $p$, and so a separate mechanism is no longer required.\n",
    "\n",
    "For example, given a current $I_\\text{Kr}$ with a state variable $n$, the old way to calculate a sensitivity w.r.t. $n(t=0)$\n",
    "$$\\frac{\\partial I_\\text{Kr}}{\\partial n(t=0)}$$\n",
    "was\n",
    "```\n",
    "sim = myokit.Simulation(model, sensitivities=[['ikr.IKr'], ['init(ikr.n)']])\n",
    "```\n",
    "In the new syntax, you can define $n(t = 0) = \\texttt{ikr.n0}$ and use\n",
    "```\n",
    "sim = myokit.Simulation(model, sensitivities=[['ikr.IKr'], ['ikr.n0']])\n",
    "```\n",
    "and so the `init` syntax can be removed."
   ]
  },
  {
   "cell_type": "markdown",
   "id": "74f54bfb",
   "metadata": {},
   "source": [
    "## The initial \"state sensitivities\""
   ]
  },
  {
   "cell_type": "markdown",
   "id": "28536728",
   "metadata": {},
   "source": [
    "Myokit does not provide a way to set the \"initial state sensitivites\":\n",
    "\n",
    "$$s_0 = \\left.\\frac{\\partial y}{\\partial p}\\right\\rvert_{t=0}$$\n",
    "\n",
    "There are two reasons for this:\n",
    "\n",
    "1. The selection of \"parameters of interest\" is done at simulation time, so the matrix above is part of a `myokit.Simulation`, not part of `myokit.Model`.\n",
    "2. In cardiac cell models, which can easily have 40 states, it would be really ardous to make the user write this out."
   ]
  },
  {
   "cell_type": "markdown",
   "id": "2daf7a6c",
   "metadata": {},
   "source": [
    "So what do we do instead? Three use-cases are shown below."
   ]
  },
  {
   "cell_type": "markdown",
   "id": "33381ba8",
   "metadata": {},
   "source": [
    "### Use case 1: A toy example, where $h(p) = y(t = 0)$ is taken as truth\n",
    "\n",
    "First, let's assume that **$y(t = 0)$ is fully specified by $h(p)$, and that the system has no history before $t = 0$**.\n",
    "\n",
    "This means that all dependence of $y(t = 0)$ on $p$ is captured in $h$, and any other initial state sensitivites should be 0.\n",
    "For example, given a 2-state model with initial conditions\n",
    "\n",
    "```\n",
    "[[model]]\n",
    "# Initial conditions\n",
    "system.a = 0\n",
    "system.b = 7 * system.c\n",
    "\n",
    "[system]\n",
    "c = 2\n",
    "dot(a) = ...\n",
    "```\n",
    "\n",
    "and a simulation\n",
    "```\n",
    "sim = myokit.Simulation(model, sensitivities=[[...], ['system.c']])\n",
    "```\n",
    "we have $p = [\\texttt{system.c}]$ and initial state sensitivities\n",
    "$$\n",
    "\\left.\\frac{\\partial y}{\\partial p}\\right\\rvert_{t=0} = \\begin{bmatrix}0\\\\7\\end{bmatrix}\n",
    "$$\n",
    "\n",
    "For most use cases, we except many states and parameters, but very few parameter-dependent initial conditions, so that the matrix will consist largely of zeroes."
   ]
  },
  {
   "cell_type": "markdown",
   "id": "d32550a3",
   "metadata": {},
   "source": [
    "### Use case 2: Starting from a limit cycle\n",
    "\n",
    "Next we consider an action potential model, used to simulate the AP of an isolated myocyte driven by a periodic stimulus.\n",
    "\n",
    "**Now we think of h(p) less as a definition, and more as a snapshot! The system definitely has a history, and so the initial state sensitivities should be set accordingly.**"
   ]
  },
  {
   "cell_type": "markdown",
   "id": "992ece73",
   "metadata": {},
   "source": [
    "Given the periodic forcing signal, we might assume that the system will converge to a periodic orbit (or limit cycle), and that we can approximate this by running a long simulation:\n",
    "\n",
    "1. Start from a physiologically feasible $y_0$, leave $\\left.\\frac{\\partial y}{\\partial p}\\right\\rvert_{t=0}$ set to 0, and run for $N$ periods.\n",
    "2. Take the new simulation state $y(t)$ to be your $y_0$, and the $s(t)$ to be your $s_0$, then redefine the current time as being 0.\n",
    "\n",
    "This is what Myokit's `Simulation.pre()` does."
   ]
  },
  {
   "cell_type": "markdown",
   "id": "8127abf9",
   "metadata": {},
   "source": [
    "What about sensitivity w.r.t. initial conditions in this case?\n",
    "If we're assuming that we are at a limit cycle, then they should be zero.\n",
    "(If the system has multiple limit cycles or is chaotic, this doesn't mean that the starting point doesn't matter, just that the derivatives are not the appropriate way to look at this).\n",
    "\n",
    "So for this use-case $h$ is not a very useful mechanism!\n",
    "Instead, we must take care to first obtain a sensible $y_0$ and $s_0$."
   ]
  },
  {
   "cell_type": "markdown",
   "id": "997fc7de",
   "metadata": {},
   "source": [
    "#### What if we are still interested in $\\partial/\\partial y_0$\n",
    "\n",
    "I'm not sure why you would be, but the way to go about this would be to:\n",
    "\n",
    "1. Obtain $s_0$ from the simulation, after pre-pacing\n",
    "2. Find the indices in $\\partial y / \\partial p$ that you want to modif, that is, the index of the state in the state vector, and the index of your parameter in the parameter vector. Presumably there are very small numbers at those entries now, because the effect of the original initial conditions has gone away. Set them to 1 and pass the updated $s_0$ back to the simulation.\n",
    "\n",
    "This requires a method `Simulation.set_state_sensitivities`, that has not yet been implemented."
   ]
  },
  {
   "cell_type": "markdown",
   "id": "d6e62332",
   "metadata": {},
   "source": [
    "### Use case 3: Starting from a steady-state\n",
    "\n",
    "Finally let's consider a HH-type ion current model, used in a simulation of a voltage-clamp experiment.\n",
    "Here we assume that the system has a steady-state at a particular voltage (part of $u(t)$), and that we can either calculate this state directly from the equations, or that we can simply hold the system at a voltage for some time before starting the \"real\" simulation."
   ]
  },
  {
   "cell_type": "markdown",
   "id": "2af33bef",
   "metadata": {},
   "source": [
    "The strategy of simulating a long time at a fixed voltage is similar to the previous use case.\n",
    "For the strategy where we calculate and insert, we need two things:\n",
    "\n",
    "1. A way to calculate $s_0$. This could be handled by [future versions](https://github.com/myokit/myokit/issues/380) of the `HHModel` class, similar to the current method [HHModel.steady_state](https://myokit.readthedocs.io/en/stable/api_library/hh.html#myokit.lib.hh.HHModel.steady_state)\n",
    "2. A method `Simulation.set_state_sensitivities`."
   ]
  },
  {
   "cell_type": "markdown",
   "id": "09c542bb",
   "metadata": {},
   "source": [
    "For Markov models we may be able to do something similar, but we could always resort to long pre-simulations instead."
   ]
  },
  {
   "cell_type": "markdown",
   "id": "87b84fda",
   "metadata": {},
   "source": [
    "#### Intermezzo: Sensitivities w.r.t. protocol parameters?\n",
    "\n",
    "For thise cases, it might also make sense to have $h$ be a function of the input $u(t)$.\n",
    "However, this can probably be worked around by adding equations to the model that manipulate $u(t)$, such that the parameters of interest become part of $p$.\n",
    "For example:\n",
    "```\n",
    "[voltage_clamp]\n",
    "dimensionless_clamp = 0\n",
    "    bind pace\n",
    "offset = -80 [mV]\n",
    "    in [mV]\n",
    "scaling = 120 [mV]\n",
    "    in [mV]\n",
    "V = offset + scaling * dimensionless_clamp\n",
    "    in [mV]\n",
    "```\n",
    "\n",
    "used with a protocol that starts at a _relative_ potential of 0, this would allow model parameter `offset` to be treated as the holding potential, and so we can calculate sensitivities with respect to it."
   ]
  },
  {
   "cell_type": "markdown",
   "id": "a70c948c",
   "metadata": {},
   "source": [
    "## Changing things during the simulation"
   ]
  },
  {
   "cell_type": "markdown",
   "id": "38baa9a8",
   "metadata": {},
   "source": [
    "The `Simulation` class has various `set_x()` methods, that let you change the system, **thus breaking away from the initial value problem set by the Model**.\n",
    "\n",
    "In the following list, methods _in italics_ are not implemented yet:\n",
    "\n",
    "- set_time(), set_state(), and _set_state_sensitivities()_ set $t$, $y$ and $s$.\n",
    "- set_default_state() and _set_default_state_sensitivities()_ set a \"default\" $y$ and $s$ that can be returned to by calling `reset()`.\n",
    "- set_constant() changes the value of a model constant or parameter.\n",
    "\n",
    "The last method in particular creates a little room for ambiguity:"
   ]
  },
  {
   "cell_type": "markdown",
   "id": "ed82a075",
   "metadata": {},
   "source": [
    "#### Set_constant\n",
    "\n",
    "If we have a $y_0 = h(p)$, then should the state sensitivities (or the default state sensitivities) in a simulation change when we change $p$?\n",
    "\n",
    "Three mechanisms were considered:\n",
    "\n",
    "1. $y_0$ is rederived whenever $p$ changes\n",
    "2. $y_0$ is rederived when $p$ changes, but only after calling `reset()`\n",
    "3. $y_0$ is never rederived\n",
    "\n",
    "The first and second create all sorts of problems.\n",
    "Some complicated solutions may be found for this, but would require users to understand them, potentially making life harder for all users with a very small pay-off for niche use cases (pre-pacing is almost always the answer!)."
   ]
  },
  {
   "cell_type": "markdown",
   "id": "bbb7115c",
   "metadata": {},
   "source": [
    "#### Setting (default) state and state sensitivities\n",
    "\n",
    "A similar but perhaps less obvious problems arises for set_state() and set_state_sensitivities, because $h(p)$ implies a relationship between $s_0$ and $y_0$. What does it mean when a user changes $y_0$ but not $s_0$?"
   ]
  },
  {
   "cell_type": "markdown",
   "id": "6af22355",
   "metadata": {},
   "source": [
    "#### Conclusion\n",
    "\n",
    "The general principle will stay much the same as it currently is:\n",
    "\n",
    "1. A model defines an initial value problem.\n",
    "2. A simulation is created as a representation of this IVP, but can then be changed.\n",
    "\n",
    "In other words, while a simulation starts at $t=0, y=h(p)$,  anything the user does after that _changes_ the problem and can break the relationship $h(p)$ stated in the `Model`."
   ]
  },
  {
   "cell_type": "markdown",
   "id": "a10b84bd",
   "metadata": {},
   "source": [
    "Implementation:\n",
    "\n",
    "- When a `Simulation` is created\n",
    "  - time is set to zero\n",
    "  - the state and default state are set to the evaluation of $h(p)$ for the current $p$\n",
    "  - the state sensitivities (and defaults) are set to the evaluation of $\\partial h / \\partial p$ for the current $p$\n",
    "- After this, $y$, $s$ and their default values are numbers"
   ]
  }
 ],
 "metadata": {
  "kernelspec": {
   "display_name": "Python 3 (ipykernel)",
   "language": "python",
   "name": "python3"
  },
  "language_info": {
   "codemirror_mode": {
    "name": "ipython",
    "version": 3
   },
   "file_extension": ".py",
   "mimetype": "text/x-python",
   "name": "python",
   "nbconvert_exporter": "python",
   "pygments_lexer": "ipython3",
   "version": "3.11.6"
  }
 },
 "nbformat": 4,
 "nbformat_minor": 5
}

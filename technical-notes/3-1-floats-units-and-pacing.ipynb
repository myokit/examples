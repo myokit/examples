{
 "cells": [
  {
   "cell_type": "markdown",
   "metadata": {},
   "source": [
    "# Technical note: Floats, units, and pacing"
   ]
  },
  {
   "cell_type": "markdown",
   "metadata": {},
   "source": [
    "## Equality in floats\n",
    "\n",
    "The floating point representation of (most) real numbers is an approximation of their true value, and when manipulating floats the error in this approximation can build up with each operation.\n",
    "In most cases this is OK, e.g. when solving a (non-chaotic) ODE, but it does lead to complications in a few areas of Myokit.\n",
    "Notably, when comparing if the current simulation time equals a predetermined time set in some pacing protocol, and when comparing if the unit resulting from some calculation equals another unit.\n",
    "\n",
    "Four types of \"equality\" come into play:\n",
    "\n",
    "- `x is y`: variables x and y point to the same value in memory.\n",
    "- `x == y`: variables x and y have the same (binary) floating point representation\n",
    "- `myokit.float.eq(x, y)`: variables x and y have the same value, to \"within floating point precision\" (i.e. the difference between them is what we'd expect after a single floating point operation, e.g. x = 1 but y is a sum of two floats that equals 1.).\n",
    "- `myokit.float.close(x, y, reltol=1e-9, abstol=1e-9)`: variables x and y are equal to within some user-defined (and relatively coarse) tolerance."
   ]
  },
  {
   "cell_type": "markdown",
   "metadata": {},
   "source": [
    "## Implementation in Python and Cm\n",
    "\n",
    "### eq\n",
    "\n",
    "The ``eq`` method is implemented for use in the pacing system in both Python and C.\n",
    "A second ``geq`` method implements greater-than-or-equal using ``eq`` for the equality check.\n",
    "\n",
    "In each language, the ``eq(a, b)`` method:\n",
    "1. Finds an appropriate ``scale``, by taking the largest absolute value of ``a`` or ``b``: ``scale = max(|a|, |b|)``.\n",
    "2. Checks for simple equality or, failing that, for ``|a - b| < scale * epsilon``.\n",
    "\n",
    "A Python implementation is\n",
    "\n",
    "```\n",
    "def eq(a, b):\n",
    "    return a == b or abs(a - b) < max(abs(a), abs(b)) * sys.float_info.epsilon\n",
    "```\n",
    "\n",
    "A C implementation is\n",
    "\n",
    "```\n",
    "#define scale(a, b) (fabs(a) > fabs(b) ? fabs(a) : fabs(b))\n",
    "#define eq(a, b) ((a == b) || (fabs(a - b) / scale(a, b) < DBL_EPSILON))\n",
    "```\n",
    "\n",
    "### close\n",
    "\n",
    "This method is only implemented in Python, for use in the units system.\n",
    "\n",
    "A Python implementation is\n",
    "\n",
    "```\n",
    "def close(a, b, reltol=1e-9, abstol=1e-9):\n",
    "    return a == b or abs(a - b) < max(reltol * max(abs(a), abs(b)), abstol)\n",
    "```\n",
    "\n",
    "For further methods based on ``eq`` and ``close``, see the [myokit.float documentation](https://myokit.readthedocs.io/en/stable/api_core/float.html)"
   ]
  },
  {
   "cell_type": "markdown",
   "metadata": {},
   "source": [
    "## Use in pacing\n",
    "\n",
    "There are two areas in Myokit's event-based pacing where floating point precision comes into play:\n",
    "\n",
    "1. During simulations, when using event-based pacing.\n",
    "   1. For simulations in C, this is handled via `pacing.h`\n",
    "   2. For simulations in Python, this is handled via a [PacingSystem](https://myokit.readthedocs.io/en/stable/api_simulations/Protocol.html#myokit.PacingSystem)\n",
    "2. When parsing protocols that use the `next` keyword."
   ]
  },
  {
   "cell_type": "markdown",
   "metadata": {},
   "source": [
    "### Floating points in event-based pacing during simulations\n",
    "\n",
    "1. To determine if an event has started or stopped, times are compared with `geq`.\n",
    "This means an event will start if `t_sim` is within floating point precision of `t_start`.\n",
    "\n",
    "2. Once an event has finished, the pacing system will check if another event is due to start by comparing `t_end_1` with `t_start_1` using `eq`, i.e. to within machine precision.\n"
   ]
  },
  {
   "cell_type": "markdown",
   "metadata": {},
   "source": [
    "### Floating points in event-based protocol parsing using `next`\n",
    "\n",
    "In the `mmt` protocol syntax, the `next` keyword can be used to have an event start after the previous event ended, without explicitly specifying this start time.\n",
    "\n",
    "In Myokit 1.38 and newer, start times set with `next` are rounded to within 9 digits.\n",
    "This helps avoid floating point inaccuracies building up in long sequences of events using `next`.\n",
    "The change was introduced in [PR 1139](https://github.com/myokit/myokit/pull/1139)."
   ]
  },
  {
   "cell_type": "markdown",
   "metadata": {},
   "source": [
    "## Use in units\n",
    "\n",
    "1. When comparing units with `==`, a check based on `eq` will be used: so units are considered equal if their exponents match to within machine precision.\n",
    "2. The `Unit` class provides methods `close` and `close_exponent` which check if two units are within a certain tolerance (1e-9) of each other (`close`), or if they are within this tolerance of each other when omitting the multiplier (`close_exponent`, suggesting they can be converted into each other).\n",
    "3. When taking a power of a unit, the exponents will be rounded to an integer _if and only if they are within machine precision of this integer_. This has no influence on numerics, but makes the result look like what we expect.\n",
    "\n",
    "### TODO: Bit more on this\n"
   ]
  },
  {
   "cell_type": "markdown",
   "metadata": {},
   "source": []
  },
  {
   "cell_type": "markdown",
   "metadata": {},
   "source": []
  }
 ],
 "metadata": {
  "kernelspec": {
   "display_name": "Python 3 (ipykernel)",
   "language": "python",
   "name": "python3"
  },
  "language_info": {
   "codemirror_mode": {
    "name": "ipython",
    "version": 3
   },
   "file_extension": ".py",
   "mimetype": "text/x-python",
   "name": "python",
   "nbconvert_exporter": "python",
   "pygments_lexer": "ipython3",
   "version": "3.13.5"
  }
 },
 "nbformat": 4,
 "nbformat_minor": 4
}

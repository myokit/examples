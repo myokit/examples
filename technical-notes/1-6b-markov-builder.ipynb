{
 "cells": [
  {
   "cell_type": "markdown",
   "metadata": {},
   "source": [
    "# Markov builder integration"
   ]
  },
  {
   "cell_type": "markdown",
   "metadata": {},
   "source": [
    "Tasks to divide / problems\n",
    "\n",
    "- Michael: Wants myokit.MarkovModel to have an API like the markov builder one\n",
    "- Joe: Points out microscopic reversibility check is not trivial for some models, sympy very useful\n",
    "- Simulation in Myokit, w protocols etc\n",
    "- Markov model syntax inside mmt hard because would either be parsed to equation form or would require huge changes to myokit Model class, so perhaps syntax seperate and in builder?\n",
    "\n",
    "\n",
    "Joe syntax example:\n",
    "```\n",
    "...\n",
    "O -> I: k3\n",
    "I <- O  # Should it complain if we don't add this one?\n",
    "...\n",
    "C3 -> O: k1 / (k3 * k5)\n",
    "...\n",
    "k3 = p1 * exp(-p2 * V)\n",
    "    in [1/s] ? Or have them guessed?\n",
    "...\n",
    "```\n",
    "\n",
    "- Parsing: Quite easy to do w Myokit... So... myokit.MarkovModel parses syntax, converts to Joe's MarkovBuilder?\n",
    "\n",
    "\n",
    "List of stuff that MarkovBuilder (w sympy) can do that will be harder without sympy:\n",
    "- microscopic reversibility\n",
    "- cancelling stuff out after substitution etc. (Some work towards this, but maybe a waste of effort? https://github.com/myokit/myokit/issues/395 )"
   ]
  },
  {
   "cell_type": "markdown",
   "metadata": {},
   "source": [
    "## Goals\n",
    "\n",
    "- Easy API to generate graph-based Markov models\n",
    "- Store in graph based format for easy manipulation\n",
    "- Automatic determination of 1 missing rate using reversibility (or 1 per loop?)\n",
    "  - Loop detection\n",
    "- Export to myokit.Model equation format\n",
    "- Import from myokit.Model equation format (!)\n",
    "- Simulations:\n",
    "  - matrix exponential?\n",
    "  - IDA?\n",
    "  - Seperate CVODE? Or just myokit one?\n",
    "  - Stochastic / gillespie ?\n",
    "- Reversibility checks (via sympy)"
   ]
  },
  {
   "cell_type": "markdown",
   "metadata": {},
   "source": [
    "## API\n",
    "\n",
    "- Mostly like: https://github.com/CardiacModelling/markov-builder/blob/master/markov_builder/MarkovChain.py\n",
    "  - See https://github.com/CardiacModelling/markov-builder/blob/master/markov_builder/example_models.py\n",
    "- Things to change:\n",
    "  - Rate parameterisation is a \"horrible list of tuples\"\n",
    "\n"
   ]
  },
  {
   "cell_type": "code",
   "execution_count": null,
   "metadata": {},
   "outputs": [],
   "source": []
  },
  {
   "cell_type": "code",
   "execution_count": null,
   "metadata": {},
   "outputs": [],
   "source": []
  },
  {
   "cell_type": "code",
   "execution_count": null,
   "metadata": {},
   "outputs": [],
   "source": []
  },
  {
   "cell_type": "code",
   "execution_count": null,
   "metadata": {},
   "outputs": [],
   "source": []
  }
 ],
 "metadata": {
  "kernelspec": {
   "display_name": "Python 3",
   "language": "python",
   "name": "python3"
  },
  "language_info": {
   "codemirror_mode": {
    "name": "ipython",
    "version": 3
   },
   "file_extension": ".py",
   "mimetype": "text/x-python",
   "name": "python",
   "nbconvert_exporter": "python",
   "pygments_lexer": "ipython3",
   "version": "3.10.8"
  }
 },
 "nbformat": 4,
 "nbformat_minor": 4
}

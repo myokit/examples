{
 "cells": [
  {
   "cell_type": "markdown",
   "metadata": {},
   "source": [
    "# Technical note: Sensitivities of a logistic model"
   ]
  },
  {
   "cell_type": "markdown",
   "metadata": {},
   "source": [
    "In this note we look at a logistic model, defined with initial conditions that depend on model parameters."
   ]
  },
  {
   "cell_type": "markdown",
   "metadata": {},
   "source": [
    "## The model\n",
    "\n",
    "State:\n",
    "\\begin{align}\n",
    "\\frac{dy}{dt} = h y (1 - y)\n",
    "\\end{align}\n",
    "\n",
    "Initial condition:\n",
    "\\begin{align}\n",
    "y(t_0, K, h) = \\left[1 + \\exp(-h(t_0 + K \\log 10)) \\right]^{-1}\n",
    "\\end{align}"
   ]
  },
  {
   "cell_type": "markdown",
   "metadata": {},
   "source": [
    "### Case 1: Time starts at 0\n",
    "\n",
    "In the first case we use\n",
    "\\begin{align}\n",
    "K &= -4 \\\\\n",
    "h &= 1\n",
    "\\end{align}\n",
    "and set $t_0 = 0$ to get\n",
    "\\begin{align}\n",
    "y_0(K, h) = \\left[1 + \\exp(-h K \\log 10) \\right]^{-1}\n",
    "\\end{align}\n",
    "\n",
    "We run for 20 time units."
   ]
  },
  {
   "cell_type": "markdown",
   "metadata": {},
   "source": [
    "### Case 2: A negative starting time\n",
    "\n",
    "The second case is based on a drug-modelling example, and uses a negative starting time!\n",
    "\n",
    "\\begin{align}\n",
    "K &= -4 \\\\\n",
    "h &= 1\n",
    "\\end{align}\n",
    "\n",
    "Now t_0 = -4.605170185988091 and we will run the simulation for $5.1 - t_0$ time units."
   ]
  },
  {
   "cell_type": "markdown",
   "metadata": {},
   "source": [
    "## Case 1"
   ]
  },
  {
   "cell_type": "markdown",
   "metadata": {},
   "source": [
    "Using the syntax defined from Myokit 1.34.0 onwards, we can write:"
   ]
  },
  {
   "cell_type": "code",
   "execution_count": 42,
   "metadata": {},
   "outputs": [],
   "source": [
    "import myokit\n",
    "\n",
    "model = myokit.parse_model(\n",
    "'''\n",
    "[[model]]\n",
    "c.y = 1 / (1 + exp(-c.h * c.K * log(10)))\n",
    "\n",
    "[engine]\n",
    "time = 0 bind time\n",
    "\n",
    "[c]\n",
    "h = 1\n",
    "K = -4\n",
    "dot(y) = h * y * (1 - y)\n",
    "''')"
   ]
  },
  {
   "cell_type": "code",
   "execution_count": 43,
   "metadata": {},
   "outputs": [
    {
     "data": {
      "image/png": "[encoded data removed]",
      "text/plain": [
       "<Figure size 432x288 with 1 Axes>"
      ]
     },
     "metadata": {
      "needs_background": "light"
     },
     "output_type": "display_data"
    }
   ],
   "source": [
    "s = myokit.Simulation(model)\n",
    "d = s.run(20)\n",
    "\n",
    "import matplotlib.pyplot as plt\n",
    "fig = plt.figure()\n",
    "ax = fig.add_subplot()\n",
    "ax.set_xlabel('Time')\n",
    "ax.set_ylabel('y')\n",
    "ax.plot(d.time(), d['c.y'])\n",
    "plt.show()"
   ]
  },
  {
   "cell_type": "markdown",
   "metadata": {},
   "source": [
    "### Proposed API\n",
    "\n",
    "At the moment, we can't do this:"
   ]
  },
  {
   "cell_type": "code",
   "execution_count": 38,
   "metadata": {},
   "outputs": [
    {
     "ename": "NotImplementedError",
     "evalue": "Sensitivities with respect to parameters used in initial conditions is not implemented (1 / (1 + exp(-c.h * c.K * log(10))) depends on c.h).",
     "output_type": "error",
     "traceback": [
      "\u001b[0;31m---------------------------------------------------------------------------\u001b[0m",
      "\u001b[0;31mNotImplementedError\u001b[0m                       Traceback (most recent call last)",
      "\u001b[0;32m<ipython-input-38-4b1b7711a214>\u001b[0m in \u001b[0;36m<module>\u001b[0;34m\u001b[0m\n\u001b[0;32m----> 1\u001b[0;31m \u001b[0ms\u001b[0m \u001b[0;34m=\u001b[0m \u001b[0mmyokit\u001b[0m\u001b[0;34m.\u001b[0m\u001b[0mSimulation\u001b[0m\u001b[0;34m(\u001b[0m\u001b[0mmodel\u001b[0m\u001b[0;34m,\u001b[0m \u001b[0msensitivities\u001b[0m\u001b[0;34m=\u001b[0m\u001b[0;34m(\u001b[0m\u001b[0;34m[\u001b[0m\u001b[0;34m'c.y'\u001b[0m\u001b[0;34m]\u001b[0m\u001b[0;34m,\u001b[0m \u001b[0;34m[\u001b[0m\u001b[0;34m'c.h'\u001b[0m\u001b[0;34m,\u001b[0m \u001b[0;34m'c.K'\u001b[0m\u001b[0;34m]\u001b[0m\u001b[0;34m)\u001b[0m\u001b[0;34m)\u001b[0m\u001b[0;34m\u001b[0m\u001b[0;34m\u001b[0m\u001b[0m\n\u001b[0m",
      "\u001b[0;32m~/dev/myokit/myokit/_sim/cvodessim.py\u001b[0m in \u001b[0;36m__init__\u001b[0;34m(***failed resolving arguments***)\u001b[0m\n\u001b[1;32m    176\u001b[0m                     \u001b[0;32mfor\u001b[0m \u001b[0me\u001b[0m \u001b[0;32min\u001b[0m \u001b[0minits\u001b[0m\u001b[0;34m:\u001b[0m\u001b[0;34m\u001b[0m\u001b[0;34m\u001b[0m\u001b[0m\n\u001b[1;32m    177\u001b[0m                         \u001b[0;32mif\u001b[0m \u001b[0me\u001b[0m\u001b[0;34m.\u001b[0m\u001b[0mdepends_on\u001b[0m\u001b[0;34m(\u001b[0m\u001b[0mi\u001b[0m\u001b[0;34m,\u001b[0m \u001b[0mdeep\u001b[0m\u001b[0;34m=\u001b[0m\u001b[0;32mTrue\u001b[0m\u001b[0;34m)\u001b[0m\u001b[0;34m:\u001b[0m\u001b[0;34m\u001b[0m\u001b[0;34m\u001b[0m\u001b[0m\n\u001b[0;32m--> 178\u001b[0;31m                             raise NotImplementedError(\n\u001b[0m\u001b[1;32m    179\u001b[0m                                 \u001b[0;34m'Sensitivities with respect to parameters used'\u001b[0m\u001b[0;34m\u001b[0m\u001b[0;34m\u001b[0m\u001b[0m\n\u001b[1;32m    180\u001b[0m                                 \u001b[0;34m' in initial conditions is not implemented ('\u001b[0m\u001b[0;34m\u001b[0m\u001b[0;34m\u001b[0m\u001b[0m\n",
      "\u001b[0;31mNotImplementedError\u001b[0m: Sensitivities with respect to parameters used in initial conditions is not implemented (1 / (1 + exp(-c.h * c.K * log(10))) depends on c.h)."
     ]
    }
   ],
   "source": [
    "s = myokit.Simulation(model, sensitivities=(['c.y'], ['c.h', 'c.K']))"
   ]
  },
  {
   "cell_type": "markdown",
   "metadata": {},
   "source": [
    "The reason for this error is that the simulation stores its _state_ and _default state_ as lists of floating point numbers, so no room for fancy expressions!"
   ]
  },
  {
   "cell_type": "markdown",
   "metadata": {},
   "source": [
    "## Requirements\n",
    "\n",
    "- The new API should be backwards compatible wherever possible. Users who do not use the new functionality should not have to change their scripts.\n",
    "- The existing system with a `state`, `default_state` and `reset()`+`pre()` is already slightly confusing to new users. The new system should not be significantly more confusing.\n",
    "- A good rule of thumb might be that if users aren't thinking about initial conditions they won't notice any changes"
   ]
  },
  {
   "cell_type": "markdown",
   "metadata": {},
   "source": [
    "## Decisions\n",
    "\n",
    "- The methods `sim.state()` and `sim.set_state()` work with floats\n",
    "- Using `pre()` updates the `default_state` and `default_s_state`, all connection with constants is lost"
   ]
  },
  {
   "cell_type": "markdown",
   "metadata": {},
   "source": [
    "## Questions \n",
    "\n",
    "- Should links to expressions be maintained? These would all have to be stored python-only. From the point of view of the C code there is no such thing as a dependency of the sensitivity state on the constants - this is implemented purely by particular values in the state-sensitivity matrix\n",
    "- Should set_constant(p) where a model's initial state depends on p affect the default s_state ?\n",
    "- Should calling set_default_state with expressions be allowed. And if so, should this update the default_s_state? (because setting `x0 = p` implies `dx0/dp = 1`)\n",
    "  - **Should some link between the `default_state` and the `default_s_state` be maintained?"
   ]
  },
  {
   "cell_type": "code",
   "execution_count": null,
   "metadata": {},
   "outputs": [],
   "source": []
  },
  {
   "cell_type": "code",
   "execution_count": null,
   "metadata": {},
   "outputs": [],
   "source": []
  },
  {
   "cell_type": "markdown",
   "metadata": {},
   "source": [
    "## Proposal 1A: default_s_state as floats\n",
    "\n",
    "**The simulation turns the initial state into floats, but maintains model constants in symbolic form**\n",
    "\n",
    "- When a simulation is created, the `default_s_state` is set based on the model's initial state, i.e. mostly zeroes, except where dx0/dp is non-zero in which case we evaluate this expression.\n",
    "- Calling `set_state` sets the state (to floats), calling `set_default_state` sets the default state (to floats). Same for `s_state` and `default_s_state`.\n",
    "- Calling `set_constant` affects constants, but this is interpreted as \"during simulations\", so does not affect initial state sensitivities.\n",
    "- Calling `reset()` resets to the default state and `s_state`, which are floats and so not affected by the values of any constants.\n",
    "\n",
    "\n",
    "## Proposal 1B\n",
    "\n",
    "- **Option**: We could make `set_default_state` - when called with expressions - also re-evaluate `default_s_state` to spare the user the effort of evaluating dx0/dp? This would mean you could do `sim.set_constant(p, 3)`, `sim.set_default_state(model.initial_values())`, `sim.reset()` as quite a roundabout way to re-evaluate the initial sensitivities.\n",
    "\n",
    "## Proposal 2: default_s_state as expressions\n",
    "\n",
    "**The simulation maintains an initial_state in symbolic form, and calling reset() re-evaluates it**\n",
    "\n",
    "- When a simulation is created, the `default_s_state` is set based on the model's initial state. The `s_state` is set to an evaluation of that state`.\n",
    "- Calling `set_constant` will affect constants for the rest of the simulation, but will not affect the `s_state`.\n",
    "- Calling `reset` re-evaluates the `default_state` and also the `default_s_state` if this is a list of expressions.\n",
    "  - If the user has manually changed the `default_s_state` to remove links to constants, then the `default_s_state` remains unchanged, even though the `default_state` implies certain connections.\n",
    "- Calling `set_default_state` does not affect the `default_s_state`, because the user may have changed that manually and we don't want to overwrite it?\n",
    "\n"
   ]
  },
  {
   "cell_type": "code",
   "execution_count": null,
   "metadata": {},
   "outputs": [],
   "source": []
  },
  {
   "cell_type": "code",
   "execution_count": null,
   "metadata": {},
   "outputs": [],
   "source": []
  },
  {
   "cell_type": "code",
   "execution_count": null,
   "metadata": {},
   "outputs": [],
   "source": []
  },
  {
   "cell_type": "markdown",
   "metadata": {},
   "source": [
    "## Use-cases: Parameter estimation\n",
    "\n",
    "Below is a series of use cases, all based on parameter estimation, in which we would like to use sensitivities but also re-use the same simulation object with `set_constant` to change parameter values."
   ]
  },
  {
   "cell_type": "markdown",
   "metadata": {},
   "source": [
    "### Use case 1: Partially known, partially inferred initial conditions\n",
    "\n",
    "We have a model where some initial conditions are known, and some are derived from parameters we wish to infer.\n",
    "\n",
    "We want to:\n",
    "\n",
    "1. Create a simulation.\n",
    "2. Repeatedly\n",
    "  - Set parameters, affecting the state and state sensitivities.\n",
    "  - Run\n",
    "  \n",
    "There are two possible scenarios: If the initial sensitivities should all be zero except through the initial values depending on parameters, then the model can calculate them.\n",
    "\n",
    "If the initial sensitivities should not be zero, then we need to either (1) do some pre-pacing (losing the link to parameters) or (2) have the user set the initial sensitivities (which could be based on something done with the model, I guess?)\n",
    "\n",
    "\n",
    "\n"
   ]
  },
  {
   "cell_type": "markdown",
   "metadata": {},
   "source": [
    "I think the second case is far more common, and so it's not worth it having the complex machinery needed for the simulation to be able to automatically evaluate a symbolic initial state?"
   ]
  },
  {
   "cell_type": "code",
   "execution_count": null,
   "metadata": {},
   "outputs": [],
   "source": []
  },
  {
   "cell_type": "code",
   "execution_count": null,
   "metadata": {},
   "outputs": [],
   "source": []
  },
  {
   "cell_type": "code",
   "execution_count": null,
   "metadata": {},
   "outputs": [],
   "source": []
  },
  {
   "cell_type": "markdown",
   "metadata": {},
   "source": [
    "## Examples\n",
    "\n",
    "**These are all relatively simple - you can stop reading if you're thinking about set_constant**"
   ]
  },
  {
   "cell_type": "markdown",
   "metadata": {},
   "source": [
    "### 1. A simple run"
   ]
  },
  {
   "cell_type": "markdown",
   "metadata": {},
   "source": [
    "```\n",
    "sim = myokit.Simulation(\n",
    "    model,\n",
    "    protocol,\n",
    "    sensitivities=(['c.y'], ['c.h', 'c.K'])\n",
    ")\n",
    "\n",
    "sim.time() --> 0\n",
    "sim.state() --> A list with 1 float\n",
    "sim.s_state() --> A matrix filled with zeroes\n",
    "\n",
    "sim.initial_time() --> 0\n",
    "sim.initial_state() --> A list with 1 expression\n",
    "sim.initial_s_state() --> A matrix filled with zeroes\n",
    "```"
   ]
  },
  {
   "cell_type": "markdown",
   "metadata": {},
   "source": [
    "```\n",
    "log, sens = sim.run(20)\n",
    "\n",
    "log --> A data log\n",
    "sens --> A list of matrices (or lists of lists)\n",
    "\n",
    "sim.time() --> 20\n",
    "sim.state() --> The new state\n",
    "sim.s_state() --> A matrix filled with numbers\n",
    "\n",
    "sim.initial_time() --> 0\n",
    "sim.initial_state() --> A list with 1 expression\n",
    "sim.initial_s_state() --> A matrix filled with zeroes\n",
    "```\n"
   ]
  },
  {
   "cell_type": "markdown",
   "metadata": {},
   "source": [
    "### 2. Manually setting the initial_state"
   ]
  },
  {
   "cell_type": "markdown",
   "metadata": {},
   "source": [
    "```\n",
    "sim = myokit.Simulation(\n",
    "    model,\n",
    "    protocol,\n",
    "    sensitivites=(['c.y'], ['c.h', 'c.K'])\n",
    ")\n",
    "\n",
    "sim.set_initial_state([c.h + 5*c.K])\n",
    "\n",
    "sim.time() --> 0\n",
    "sim.state() --> A list with 1 float (evaluation of initial state)\n",
    "sim.s_state() --> A matrix filled with zeroes\n",
    "\n",
    "sim.initial_time() --> 0\n",
    "sim.initial_state() --> [c.h + 5*c.K]\n",
    "sim.initial_s_state() --> A matrix filled with zeroes\n",
    "```"
   ]
  },
  {
   "cell_type": "markdown",
   "metadata": {},
   "source": [
    "```\n",
    "log, sens = sim.run(20)\n",
    "\n",
    "log --> A data log\n",
    "sens --> A list of matrices (or lists of lists)\n",
    "\n",
    "sim.time() --> 20\n",
    "sim.state() --> The new state\n",
    "sim.s_state() --> A matrix filled with numbers\n",
    "\n",
    "sim.initial_time() --> 0\n",
    "sim.initial_state() --> [c.h + 5*c.K]\n",
    "sim.initial_s_state() --> A matrix filled with zeroes\n",
    "```"
   ]
  },
  {
   "cell_type": "markdown",
   "metadata": {},
   "source": [
    "### 3. Manually setting an s_state and initial_s_state"
   ]
  },
  {
   "cell_type": "markdown",
   "metadata": {},
   "source": [
    "```\n",
    "sim = myokit.Simulation(\n",
    "    model,\n",
    "    protocol,\n",
    "    sensitivites=(['c.y'], ['c.h', 'c.K'])\n",
    ")\n",
    "\n",
    "sim.set_s_state(A matrix filled with numbers)\n",
    "sim.set_initial_s_state(A matrix filled with numbers)\n",
    "\n",
    "sim.time() --> 0\n",
    "sim.state() --> A list with 1 float\n",
    "sim.s_state() --> A matrix filled with numbers\n",
    "\n",
    "sim.initial_time() --> 0\n",
    "sim.initial_state() --> A list with 1 expression\n",
    "sim.initial_s_state() --> A matrix filled with numbers\n",
    "```"
   ]
  },
  {
   "cell_type": "markdown",
   "metadata": {},
   "source": [
    "```\n",
    "log, sens = sim.run(20)\n",
    "\n",
    "log --> A data log\n",
    "sens --> A list of matrices (or lists of lists)\n",
    "\n",
    "sim.time() --> 20\n",
    "sim.state() --> The new state\n",
    "sim.s_state() --> A matrix filled with numbers\n",
    "\n",
    "sim.initial_time() --> 0\n",
    "sim.initial_state() --> A list with 1 expression\n",
    "sim.initial_s_state() --> A matrix filled with numbers\n",
    "\n",
    "```"
   ]
  },
  {
   "cell_type": "markdown",
   "metadata": {},
   "source": [
    "### 4. Pre-pacing\n"
   ]
  },
  {
   "cell_type": "markdown",
   "metadata": {},
   "source": [
    "```\n",
    "sim = myokit.Simulation(\n",
    "    model,\n",
    "    protocol,\n",
    "    sensitivities=(['c.y'], ['c.h', 'c.K'])\n",
    ")\n",
    "\n",
    "sim.time() --> 0\n",
    "sim.state() --> A list with 1 float\n",
    "sim.s_state() --> A matrix filled with zeroes\n",
    "\n",
    "sim.initial_time() --> 0\n",
    "sim.initial_state() --> A list with 1 expression\n",
    "sim.initial_s_state() --> A matrix filled with zeroes\n",
    "```"
   ]
  },
  {
   "cell_type": "markdown",
   "metadata": {},
   "source": [
    "```\n",
    "log, sens = sim.pre(20)\n",
    "\n",
    "log --> A data log\n",
    "sens --> A list of matrices (or lists of lists)\n",
    "\n",
    "sim.time() --> 0\n",
    "sim.state() --> The new state\n",
    "sim.s_state() --> A matrix filled with numbers\n",
    "\n",
    "sim.initial_time() --> 0\n",
    "sim.initial_state() --> An updated list with 1 expression\n",
    "sim.initial_s_state() --> A matrix filled with zeroes\n",
    "```"
   ]
  },
  {
   "cell_type": "markdown",
   "metadata": {},
   "source": [
    "### 5. Using set_constant"
   ]
  },
  {
   "cell_type": "markdown",
   "metadata": {},
   "source": [
    "Maybe in the setting of a fit that uses sensitivities, and where we infer the parameter that the sensitivity depends on?\n"
   ]
  }
 ],
 "metadata": {
  "kernelspec": {
   "display_name": "Python 3 (ipykernel)",
   "language": "python",
   "name": "python3"
  },
  "language_info": {
   "codemirror_mode": {
    "name": "ipython",
    "version": 3
   },
   "file_extension": ".py",
   "mimetype": "text/x-python",
   "name": "python",
   "nbconvert_exporter": "python",
   "pygments_lexer": "ipython3",
   "version": "3.11.6"
  }
 },
 "nbformat": 4,
 "nbformat_minor": 2
}

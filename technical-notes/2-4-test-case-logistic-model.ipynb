{
 "cells": [
  {
   "cell_type": "markdown",
   "metadata": {},
   "source": [
    "# Technical note: Sensitivities of a logistic model"
   ]
  },
  {
   "cell_type": "markdown",
   "metadata": {},
   "source": [
    "In this note we look at a logistic model, defined with initial conditions that depend on model parameters."
   ]
  },
  {
   "cell_type": "markdown",
   "metadata": {},
   "source": [
    "## The model\n",
    "\n",
    "Parameters:\n",
    "\\begin{align}\n",
    "K &= ???\\\\\n",
    "h &= 0.75\n",
    "\\end{align}\n",
    "\n",
    "State:\n",
    "\\begin{align}\n",
    "\\frac{dy}{dt} = h y (1 - y)\n",
    "\\end{align}\n",
    "\n",
    "Initial condition:\n",
    "\\begin{align}\n",
    "y(t_0, K, h) = \\left[1 + \\exp(-h(t_0 + K \\log 10)) \\right]^{-1}\n",
    "\\end{align}\n",
    "\n",
    "Remembering that Myokit defines $t_0 \\equiv 0$ we get\n",
    "\n",
    "Initial condition:\n",
    "\\begin{align}\n",
    "y(t_0, K, h) = \\left[1 + \\exp(-h K \\log 10) \\right]^{-1}\n",
    "\\end{align}"
   ]
  },
  {
   "cell_type": "markdown",
   "metadata": {},
   "source": [
    "### In Myokit 1.34 and newer"
   ]
  },
  {
   "cell_type": "markdown",
   "metadata": {},
   "source": [
    "Using the syntax defined from Myokit 1.34.0 onwards, we can write:"
   ]
  },
  {
   "cell_type": "code",
   "execution_count": 33,
   "metadata": {},
   "outputs": [],
   "source": [
    "import myokit\n",
    "\n",
    "model = myokit.parse_model(\n",
    "'''\n",
    "[[model]]\n",
    "c.y = 1 / (1 + exp(-c.h * c.K * log(10)))\n",
    "\n",
    "[engine]\n",
    "time = 0 bind time\n",
    "\n",
    "[c]\n",
    "h = 0.75\n",
    "K = -2.25\n",
    "dot(y) = h * y * (1 - y)\n",
    "''')"
   ]
  },
  {
   "cell_type": "code",
   "execution_count": 37,
   "metadata": {},
   "outputs": [
    {
     "data": {
      "image/png": "[encoded data removed]",
      "text/plain": [
       "<Figure size 432x288 with 1 Axes>"
      ]
     },
     "metadata": {
      "needs_background": "light"
     },
     "output_type": "display_data"
    }
   ],
   "source": [
    "s = myokit.Simulation(model)\n",
    "d = s.run(20)\n",
    "\n",
    "import matplotlib.pyplot as plt\n",
    "fig = plt.figure()\n",
    "ax = fig.add_subplot()\n",
    "ax.set_xlabel('Time')\n",
    "ax.set_ylabel('y')\n",
    "ax.plot(d.time(), d['c.y'])\n",
    "plt.show()"
   ]
  },
  {
   "cell_type": "markdown",
   "metadata": {},
   "source": [
    "### Proposed API\n",
    "\n",
    "At the moment, we can't do this:"
   ]
  },
  {
   "cell_type": "code",
   "execution_count": 38,
   "metadata": {},
   "outputs": [
    {
     "ename": "NotImplementedError",
     "evalue": "Sensitivities with respect to parameters used in initial conditions is not implemented (1 / (1 + exp(-c.h * c.K * log(10))) depends on c.h).",
     "output_type": "error",
     "traceback": [
      "\u001b[0;31m---------------------------------------------------------------------------\u001b[0m",
      "\u001b[0;31mNotImplementedError\u001b[0m                       Traceback (most recent call last)",
      "\u001b[0;32m<ipython-input-38-4b1b7711a214>\u001b[0m in \u001b[0;36m<module>\u001b[0;34m\u001b[0m\n\u001b[0;32m----> 1\u001b[0;31m \u001b[0ms\u001b[0m \u001b[0;34m=\u001b[0m \u001b[0mmyokit\u001b[0m\u001b[0;34m.\u001b[0m\u001b[0mSimulation\u001b[0m\u001b[0;34m(\u001b[0m\u001b[0mmodel\u001b[0m\u001b[0;34m,\u001b[0m \u001b[0msensitivities\u001b[0m\u001b[0;34m=\u001b[0m\u001b[0;34m(\u001b[0m\u001b[0;34m[\u001b[0m\u001b[0;34m'c.y'\u001b[0m\u001b[0;34m]\u001b[0m\u001b[0;34m,\u001b[0m \u001b[0;34m[\u001b[0m\u001b[0;34m'c.h'\u001b[0m\u001b[0;34m,\u001b[0m \u001b[0;34m'c.K'\u001b[0m\u001b[0;34m]\u001b[0m\u001b[0;34m)\u001b[0m\u001b[0;34m)\u001b[0m\u001b[0;34m\u001b[0m\u001b[0;34m\u001b[0m\u001b[0m\n\u001b[0m",
      "\u001b[0;32m~/dev/myokit/myokit/_sim/cvodessim.py\u001b[0m in \u001b[0;36m__init__\u001b[0;34m(***failed resolving arguments***)\u001b[0m\n\u001b[1;32m    176\u001b[0m                     \u001b[0;32mfor\u001b[0m \u001b[0me\u001b[0m \u001b[0;32min\u001b[0m \u001b[0minits\u001b[0m\u001b[0;34m:\u001b[0m\u001b[0;34m\u001b[0m\u001b[0;34m\u001b[0m\u001b[0m\n\u001b[1;32m    177\u001b[0m                         \u001b[0;32mif\u001b[0m \u001b[0me\u001b[0m\u001b[0;34m.\u001b[0m\u001b[0mdepends_on\u001b[0m\u001b[0;34m(\u001b[0m\u001b[0mi\u001b[0m\u001b[0;34m,\u001b[0m \u001b[0mdeep\u001b[0m\u001b[0;34m=\u001b[0m\u001b[0;32mTrue\u001b[0m\u001b[0;34m)\u001b[0m\u001b[0;34m:\u001b[0m\u001b[0;34m\u001b[0m\u001b[0;34m\u001b[0m\u001b[0m\n\u001b[0;32m--> 178\u001b[0;31m                             raise NotImplementedError(\n\u001b[0m\u001b[1;32m    179\u001b[0m                                 \u001b[0;34m'Sensitivities with respect to parameters used'\u001b[0m\u001b[0;34m\u001b[0m\u001b[0;34m\u001b[0m\u001b[0m\n\u001b[1;32m    180\u001b[0m                                 \u001b[0;34m' in initial conditions is not implemented ('\u001b[0m\u001b[0;34m\u001b[0m\u001b[0;34m\u001b[0m\u001b[0m\n",
      "\u001b[0;31mNotImplementedError\u001b[0m: Sensitivities with respect to parameters used in initial conditions is not implemented (1 / (1 + exp(-c.h * c.K * log(10))) depends on c.h)."
     ]
    }
   ],
   "source": [
    "s = myokit.Simulation(model, sensitivities=(['c.y'], ['c.h', 'c.K']))"
   ]
  },
  {
   "cell_type": "markdown",
   "metadata": {},
   "source": [
    "The reason for this error is that the simulation stores its _state_ and _default state_ as lists of floating point numbers, so no room for fancy expressions!"
   ]
  },
  {
   "cell_type": "markdown",
   "metadata": {},
   "source": [
    "## Requirements\n",
    "\n",
    "- The new API should be backwards compatible wherever possible. Users who do not use the new functionality should not have to change their scripts.\n",
    "- The existing system with a `state`, `default_state` and `reset()`+`pre()` is already slightly confusing to new users. The new system should not be significantly more confusing.\n",
    "\n",
    "Specific methods:\n",
    "- The methods `sim.state()` and `sim.set_state()` should probably stay working with floats?\n",
    "- The methods `default_state` and `set_default_state` are less frequently used, and so can maybe be changed a bit?\n",
    "- The method `reset()` currently resets `state` to the `default_state`, this should be maintained\n",
    "- The method `pre()` runs a simulation and sets `default_state` to the resulting (numerical) state. This should be maintained\n",
    "- The method `set_constant()` can be used to change a constant. Should this impact initial states?"
   ]
  },
  {
   "cell_type": "markdown",
   "metadata": {},
   "source": [
    "Implementation:\n",
    "\n",
    "I FORGOT. SOMETHING WITH UDATA AND POINTERS\n",
    "\n"
   ]
  },
  {
   "cell_type": "markdown",
   "metadata": {},
   "source": [
    "## Proposal 1: The default state can use expressions"
   ]
  },
  {
   "cell_type": "markdown",
   "metadata": {},
   "source": [
    "This mechanism was proposed by Martin in https://github.com/myokit/myokit/pull/899."
   ]
  },
  {
   "cell_type": "markdown",
   "metadata": {},
   "source": [
    "In short:\n",
    "- `sim.state()` and `set_state()` use floats.\n",
    "- `sim.default_state()` and `set_default_state` use expressions.\n",
    "- When a simulation is created, `state` is set to the evaluation of `default_state`\n",
    "- `pre()` sets the default state to Number objects, so variable references are lost\n",
    "- `reset()` sets `state` to the evaluation of `default_state`\n",
    "- Using `set_constant` affects `default_state`, but not `state` (which is floats!). So if the effect of a `set_constant` call should be propagated to the state, `reset()` should be called."
   ]
  },
  {
   "cell_type": "markdown",
   "metadata": {},
   "source": [
    "### Examples"
   ]
  },
  {
   "cell_type": "markdown",
   "metadata": {},
   "source": []
  },
  {
   "cell_type": "markdown",
   "metadata": {},
   "source": [
    "### Implementation"
   ]
  },
  {
   "cell_type": "markdown",
   "metadata": {},
   "source": []
  }
 ],
 "metadata": {
  "kernelspec": {
   "display_name": "Python 3",
   "language": "python",
   "name": "python3"
  },
  "language_info": {
   "codemirror_mode": {
    "name": "ipython",
    "version": 3
   },
   "file_extension": ".py",
   "mimetype": "text/x-python",
   "name": "python",
   "nbconvert_exporter": "python",
   "pygments_lexer": "ipython3",
   "version": "3.10.8"
  }
 },
 "nbformat": 4,
 "nbformat_minor": 2
}

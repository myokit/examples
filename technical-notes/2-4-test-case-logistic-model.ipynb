{
 "cells": [
  {
   "attachments": {},
   "cell_type": "markdown",
   "metadata": {},
   "source": [
    "# Technical note: Sensitivities of a logistic model"
   ]
  },
  {
   "attachments": {},
   "cell_type": "markdown",
   "metadata": {},
   "source": [
    "In this note we look at a logistic model, defined with initial conditions that depend on model parameters."
   ]
  },
  {
   "attachments": {},
   "cell_type": "markdown",
   "metadata": {},
   "source": [
    "## The model\n",
    "\n",
    "State:\n",
    "\\begin{align}\n",
    "\\frac{dy}{dt} = h y (1 - y)\n",
    "\\end{align}\n",
    "\n",
    "Initial condition:\n",
    "\\begin{align}\n",
    "y(t_0, K, h) = \\left[1 + \\exp(-h(t_0 + K \\log 10)) \\right]^{-1}\n",
    "\\end{align}"
   ]
  },
  {
   "attachments": {},
   "cell_type": "markdown",
   "metadata": {},
   "source": [
    "### Case 1: Time starts at 0\n",
    "\n",
    "In the first case we use\n",
    "\\begin{align}\n",
    "K &= -4 \\\\\n",
    "h &= 1\n",
    "\\end{align}\n",
    "and set $t_0 = 0$ to get\n",
    "\\begin{align}\n",
    "y_0(K, h) = \\left[1 + \\exp(-h K \\log 10) \\right]^{-1}\n",
    "\\end{align}\n",
    "\n",
    "We run for 20 time units."
   ]
  },
  {
   "attachments": {},
   "cell_type": "markdown",
   "metadata": {},
   "source": [
    "### Case 2: A negative starting time\n",
    "\n",
    "The second case is based on a drug-modelling example, and uses a negative starting time!\n",
    "\n",
    "\\begin{align}\n",
    "K &= -4 \\\\\n",
    "h &= 1\n",
    "\\end{align}\n",
    "\n",
    "Now t_0 = -4.605170185988091 and we will run the simulation for $5.1 - t_0$ time units."
   ]
  },
  {
   "attachments": {},
   "cell_type": "markdown",
   "metadata": {},
   "source": [
    "## Case 1"
   ]
  },
  {
   "attachments": {},
   "cell_type": "markdown",
   "metadata": {},
   "source": [
    "Using the syntax defined from Myokit 1.34.0 onwards, we can write:"
   ]
  },
  {
   "cell_type": "code",
   "execution_count": 42,
   "metadata": {},
   "outputs": [],
   "source": [
    "import myokit\n",
    "\n",
    "model = myokit.parse_model(\n",
    "'''\n",
    "[[model]]\n",
    "c.y = 1 / (1 + exp(-c.h * c.K * log(10)))\n",
    "\n",
    "[engine]\n",
    "time = 0 bind time\n",
    "\n",
    "[c]\n",
    "h = 1\n",
    "K = -4\n",
    "dot(y) = h * y * (1 - y)\n",
    "''')"
   ]
  },
  {
   "cell_type": "code",
   "execution_count": 43,
   "metadata": {},
   "outputs": [
    {
     "data": {
      "image/png": "[encoded data removed]",
      "text/plain": [
       "<Figure size 432x288 with 1 Axes>"
      ]
     },
     "metadata": {
      "needs_background": "light"
     },
     "output_type": "display_data"
    }
   ],
   "source": [
    "s = myokit.Simulation(model)\n",
    "d = s.run(20)\n",
    "\n",
    "import matplotlib.pyplot as plt\n",
    "fig = plt.figure()\n",
    "ax = fig.add_subplot()\n",
    "ax.set_xlabel('Time')\n",
    "ax.set_ylabel('y')\n",
    "ax.plot(d.time(), d['c.y'])\n",
    "plt.show()"
   ]
  },
  {
   "attachments": {},
   "cell_type": "markdown",
   "metadata": {},
   "source": [
    "### Proposed API\n",
    "\n",
    "At the moment, we can't do this:"
   ]
  },
  {
   "cell_type": "code",
   "execution_count": 38,
   "metadata": {},
   "outputs": [
    {
     "ename": "NotImplementedError",
     "evalue": "Sensitivities with respect to parameters used in initial conditions is not implemented (1 / (1 + exp(-c.h * c.K * log(10))) depends on c.h).",
     "output_type": "error",
     "traceback": [
      "\u001b[0;31m---------------------------------------------------------------------------\u001b[0m",
      "\u001b[0;31mNotImplementedError\u001b[0m                       Traceback (most recent call last)",
      "\u001b[0;32m<ipython-input-38-4b1b7711a214>\u001b[0m in \u001b[0;36m<module>\u001b[0;34m\u001b[0m\n\u001b[0;32m----> 1\u001b[0;31m \u001b[0ms\u001b[0m \u001b[0;34m=\u001b[0m \u001b[0mmyokit\u001b[0m\u001b[0;34m.\u001b[0m\u001b[0mSimulation\u001b[0m\u001b[0;34m(\u001b[0m\u001b[0mmodel\u001b[0m\u001b[0;34m,\u001b[0m \u001b[0msensitivities\u001b[0m\u001b[0;34m=\u001b[0m\u001b[0;34m(\u001b[0m\u001b[0;34m[\u001b[0m\u001b[0;34m'c.y'\u001b[0m\u001b[0;34m]\u001b[0m\u001b[0;34m,\u001b[0m \u001b[0;34m[\u001b[0m\u001b[0;34m'c.h'\u001b[0m\u001b[0;34m,\u001b[0m \u001b[0;34m'c.K'\u001b[0m\u001b[0;34m]\u001b[0m\u001b[0;34m)\u001b[0m\u001b[0;34m)\u001b[0m\u001b[0;34m\u001b[0m\u001b[0;34m\u001b[0m\u001b[0m\n\u001b[0m",
      "\u001b[0;32m~/dev/myokit/myokit/_sim/cvodessim.py\u001b[0m in \u001b[0;36m__init__\u001b[0;34m(***failed resolving arguments***)\u001b[0m\n\u001b[1;32m    176\u001b[0m                     \u001b[0;32mfor\u001b[0m \u001b[0me\u001b[0m \u001b[0;32min\u001b[0m \u001b[0minits\u001b[0m\u001b[0;34m:\u001b[0m\u001b[0;34m\u001b[0m\u001b[0;34m\u001b[0m\u001b[0m\n\u001b[1;32m    177\u001b[0m                         \u001b[0;32mif\u001b[0m \u001b[0me\u001b[0m\u001b[0;34m.\u001b[0m\u001b[0mdepends_on\u001b[0m\u001b[0;34m(\u001b[0m\u001b[0mi\u001b[0m\u001b[0;34m,\u001b[0m \u001b[0mdeep\u001b[0m\u001b[0;34m=\u001b[0m\u001b[0;32mTrue\u001b[0m\u001b[0;34m)\u001b[0m\u001b[0;34m:\u001b[0m\u001b[0;34m\u001b[0m\u001b[0;34m\u001b[0m\u001b[0m\n\u001b[0;32m--> 178\u001b[0;31m                             raise NotImplementedError(\n\u001b[0m\u001b[1;32m    179\u001b[0m                                 \u001b[0;34m'Sensitivities with respect to parameters used'\u001b[0m\u001b[0;34m\u001b[0m\u001b[0;34m\u001b[0m\u001b[0m\n\u001b[1;32m    180\u001b[0m                                 \u001b[0;34m' in initial conditions is not implemented ('\u001b[0m\u001b[0;34m\u001b[0m\u001b[0;34m\u001b[0m\u001b[0m\n",
      "\u001b[0;31mNotImplementedError\u001b[0m: Sensitivities with respect to parameters used in initial conditions is not implemented (1 / (1 + exp(-c.h * c.K * log(10))) depends on c.h)."
     ]
    }
   ],
   "source": [
    "s = myokit.Simulation(model, sensitivities=(['c.y'], ['c.h', 'c.K']))"
   ]
  },
  {
   "attachments": {},
   "cell_type": "markdown",
   "metadata": {},
   "source": [
    "The reason for this error is that the simulation stores its _state_ and _default state_ as lists of floating point numbers, so no room for fancy expressions!"
   ]
  },
  {
   "attachments": {},
   "cell_type": "markdown",
   "metadata": {},
   "source": [
    "## Requirements\n",
    "\n",
    "- The new API should be backwards compatible wherever possible. Users who do not use the new functionality should not have to change their scripts.\n",
    "- The existing system with a `state`, `default_state` and `reset()`+`pre()` is already slightly confusing to new users. The new system should not be significantly more confusing.\n",
    "- A good rule of thumb might be that if users aren't thinking about initial conditions they won't notice any changes\n",
    "\n",
    "Specific methods:\n",
    "- The methods `sim.state()` and `sim.set_state()` should probably stay working with floats?\n",
    "- The methods `default_state` and `set_default_state` are less frequently used, and so can maybe be changed a bit?\n",
    "- The method `reset()` currently resets `state` to the `default_state`, this should be maintained\n",
    "- The method `pre()` runs a simulation and sets `default_state` to the resulting (numerical) state. This should be maintained\n",
    "- The method `set_constant()` can be used to change a constant. Should this impact initial states?"
   ]
  },
  {
   "attachments": {},
   "cell_type": "markdown",
   "metadata": {},
   "source": [
    "## Proposal: The _default state_ uses expressions, the _state_ is floats"
   ]
  },
  {
   "attachments": {},
   "cell_type": "markdown",
   "metadata": {},
   "source": [
    "The core mechanism was proposed by Martin in https://github.com/myokit/myokit/pull/899.\n",
    "\n",
    "To handle case 2, we might also want a `set_default_time`."
   ]
  },
  {
   "attachments": {},
   "cell_type": "markdown",
   "metadata": {},
   "source": [
    "1. When a simulation is created from a Model\n",
    "  - Its `initial_state` becomes the model's initial state: a list of expressions\n",
    "  - Its `state` becomes the evaluation of the initial state: a list of floats\n",
    "  - Its `initial_s_state` is a matrix of floats with value 1 for $dy/dy_0$ and 0 everywhere else.\n",
    "  - Its `s_state` is the same.\n",
    "  - Its `initial_time` is 0"
   ]
  },
  {
   "attachments": {},
   "cell_type": "markdown",
   "metadata": {},
   "source": [
    "2. Sensitivities\n",
    "  - Can be defined w.r.t. parameters or w.r.t. initial states.\n",
    "  - Since initial states can now depend on parameters, we would have to exclude double dependencies, i.e. if an initial state is not a number you can no longer ask for a sensitivity w.r.t. that initial state\n",
    "  - **Question 1: Alternatively, we could remove the ability to calculate dy/dy0 altogether, only allowing it via y0=f(p). This would make Myokit's language a bit simpler (remove the `init` keyword, remove the `InitialValue` expression that we introduced explicitly for this purpose). Would it make it harder to use though? Or would it make it conceptually more clear? **"
   ]
  },
  {
   "attachments": {},
   "cell_type": "markdown",
   "metadata": {},
   "source": [
    "3. Getting and setting\n",
    "  - The `initial_state` can be accessed via `initial_state()` (implementation detail: expressions are immutable) and set with `set_initial_state()`. Both work with expressions (although `set_initial_state` will accept floats for convenience).\n",
    "  - Methods `state()` and `set_state()` use floats.\n",
    "    - **Question 2:** Should these methods set the `s_state` too? Or do we maintain separate methods for that?\n",
    "  - Existing methods `time()` and `set_time()`.\n",
    "  - We'll add an `initial_time` and `set_initial_time`"
   ]
  },
  {
   "attachments": {},
   "cell_type": "markdown",
   "metadata": {},
   "source": [
    "4. Running\n",
    "  - When a simulation is run with `run()` it changes `time`, `state`, `s_state`\n",
    "  - When a simulation is `reset()` its `time` is set to `initial_time`, its `state` is set to the evaluated `initial_state`, and its `s_state` is set to the `initial_s_state`."
   ]
  },
  {
   "attachments": {},
   "cell_type": "markdown",
   "metadata": {},
   "source": [
    "5. Pre-pacing\n",
    "  - Pre-pacing is meant to bring models closers to a periodic orbit, or closer to a steady state.\n",
    "  - When a simulation is run with `pre()` it does what `run()` does, but also updates the `initial_state` (with a list of floats!) and `initial_s_state`. \n",
    "    - **Question 3:** This means that the *explicit* dependence of `s_state` on initial states is lost. I think this is OK because you wouldn't pre-pace if part of your initial state was a parameter?\n",
    "    - **Question 4:** It also means that you still have an *implicit* dependence on any initial state parameters from before you pre-paced. That makes less sense to me, because running a simulation now answers the question \"how do my states/variables depend on the initial values at some long ago time now forgotten?\" I.e. they are no longer the sensitivities w.r.t. the set `initial_state`. Maybe they should all just be zeroed instead? Or should we maintain the \"pre paced\" sensitivities w.r.t. parameters, but zero the ones for initial states?"
   ]
  },
  {
   "attachments": {},
   "cell_type": "markdown",
   "metadata": {},
   "source": [
    "6. Using `set_constant` can change parameters in a simulation. For example for fitting. Therefore, it can change the values that an `initial_state` can be evaluated to.\n",
    "  - **Question 5:** When I (1) Create a sim, (2) Set a parameter, (3) Run. Should I expect the evaluation of the initial_state to have been updated? With the mechanism above the answer would be no (`state` was set to evaluated-`initial_state` at creation). So a user would have to (1) Create a sim, (2) Set a constant, (3) Reset (thereby re-evaluating the initial state), (4) Run?"
   ]
  },
  {
   "attachments": {},
   "cell_type": "markdown",
   "metadata": {},
   "source": [
    "## Examples"
   ]
  },
  {
   "attachments": {},
   "cell_type": "markdown",
   "metadata": {},
   "source": [
    "### 1. A simple run"
   ]
  },
  {
   "attachments": {},
   "cell_type": "markdown",
   "metadata": {},
   "source": [
    "```\n",
    "sim = myokit.Simulation(\n",
    "    model,\n",
    "    protocol,\n",
    "    sensitivities=(['c.y'], ['c.h', 'c.K'])\n",
    ")\n",
    "\n",
    "sim.time() --> 0\n",
    "sim.state() --> A list with 1 float\n",
    "sim.s_state() --> A matrix filled with zeroes\n",
    "\n",
    "sim.initial_time() --> 0\n",
    "sim.initial_state() --> A list with 1 expression\n",
    "sim.initial_s_state() --> A matrix filled with zeroes\n",
    "```"
   ]
  },
  {
   "attachments": {},
   "cell_type": "markdown",
   "metadata": {},
   "source": [
    "```\n",
    "log, sens = sim.run(20)\n",
    "\n",
    "log --> A data log\n",
    "sens --> A list of matrices (or lists of lists)\n",
    "\n",
    "sim.time() --> 20\n",
    "sim.state() --> The new state\n",
    "sim.s_state() --> A matrix filled with numbers\n",
    "\n",
    "sim.initial_time() --> 0\n",
    "sim.initial_state() --> A list with 1 expression\n",
    "sim.initial_s_state() --> A matrix filled with zeroes\n",
    "```\n"
   ]
  },
  {
   "attachments": {},
   "cell_type": "markdown",
   "metadata": {},
   "source": [
    "### 2. Manually setting the initial_state"
   ]
  },
  {
   "attachments": {},
   "cell_type": "markdown",
   "metadata": {},
   "source": [
    "```\n",
    "sim = myokit.Simulation(\n",
    "    model,\n",
    "    protocol,\n",
    "    sensitivites=(['c.y'], ['c.h', 'c.K'])\n",
    ")\n",
    "\n",
    "sim.set_initial_state([c.h + 5*c.K])\n",
    "\n",
    "sim.time() --> 0\n",
    "sim.state() --> A list with 1 float (evaluation of initial state)\n",
    "sim.s_state() --> A matrix filled with zeroes\n",
    "\n",
    "sim.initial_time() --> 0\n",
    "sim.initial_state() --> [c.h + 5*c.K]\n",
    "sim.initial_s_state() --> A matrix filled with zeroes\n",
    "```"
   ]
  },
  {
   "cell_type": "markdown",
   "metadata": {},
   "source": [
    "```\n",
    "log, sens = sim.run(20)\n",
    "\n",
    "log --> A data log\n",
    "sens --> A list of matrices (or lists of lists)\n",
    "\n",
    "sim.time() --> 20\n",
    "sim.state() --> The new state\n",
    "sim.s_state() --> A matrix filled with numbers\n",
    "\n",
    "sim.initial_time() --> 0\n",
    "sim.initial_state() --> [c.h + 5*c.K]\n",
    "sim.initial_s_state() --> A matrix filled with zeroes\n",
    "```"
   ]
  },
  {
   "attachments": {},
   "cell_type": "markdown",
   "metadata": {},
   "source": [
    "### 3. Manually setting an s_state and initial_s_state"
   ]
  },
  {
   "attachments": {},
   "cell_type": "markdown",
   "metadata": {},
   "source": [
    "```\n",
    "sim = myokit.Simulation(\n",
    "    model,\n",
    "    protocol,\n",
    "    sensitivites=(['c.y'], ['c.h', 'c.K'])\n",
    ")\n",
    "\n",
    "sim.set_s_state(A matrix filled with numbers)\n",
    "sim.set_initial_s_state(A matrix filled with numbers)\n",
    "\n",
    "sim.time() --> 0\n",
    "sim.state() --> A list with 1 float\n",
    "sim.s_state() --> A matrix filled with numbers\n",
    "\n",
    "sim.initial_time() --> 0\n",
    "sim.initial_state() --> A list with 1 expression\n",
    "sim.initial_s_state() --> A matrix filled with numbers\n",
    "```"
   ]
  },
  {
   "attachments": {},
   "cell_type": "markdown",
   "metadata": {},
   "source": [
    "```\n",
    "log, sens = sim.run(20)\n",
    "\n",
    "log --> A data log\n",
    "sens --> A list of matrices (or lists of lists)\n",
    "\n",
    "sim.time() --> 20\n",
    "sim.state() --> The new state\n",
    "sim.s_state() --> A matrix filled with numbers\n",
    "\n",
    "sim.initial_time() --> 0\n",
    "sim.initial_state() --> A list with 1 expression\n",
    "sim.initial_s_state() --> A matrix filled with numbers\n",
    "\n",
    "```"
   ]
  },
  {
   "attachments": {},
   "cell_type": "markdown",
   "metadata": {},
   "source": [
    "### 4. Pre-pacing\n"
   ]
  },
  {
   "cell_type": "markdown",
   "metadata": {},
   "source": [
    "```\n",
    "sim = myokit.Simulation(\n",
    "    model,\n",
    "    protocol,\n",
    "    sensitivities=(['c.y'], ['c.h', 'c.K'])\n",
    ")\n",
    "\n",
    "sim.time() --> 0\n",
    "sim.state() --> A list with 1 float\n",
    "sim.s_state() --> A matrix filled with zeroes\n",
    "\n",
    "sim.initial_time() --> 0\n",
    "sim.initial_state() --> A list with 1 expression\n",
    "sim.initial_s_state() --> A matrix filled with zeroes\n",
    "```"
   ]
  },
  {
   "cell_type": "markdown",
   "metadata": {},
   "source": [
    "```\n",
    "log, sens = sim.pre(20)\n",
    "\n",
    "log --> A data log\n",
    "sens --> A list of matrices (or lists of lists)\n",
    "\n",
    "sim.time() --> 0\n",
    "sim.state() --> The new state\n",
    "sim.s_state() --> A matrix filled with numbers\n",
    "\n",
    "sim.initial_time() --> 0\n",
    "sim.initial_state() --> An updated list with 1 expression\n",
    "sim.initial_s_state() --> A matrix filled with zeroes\n",
    "```"
   ]
  },
  {
   "attachments": {},
   "cell_type": "markdown",
   "metadata": {},
   "source": [
    "### 5. Using set_constant"
   ]
  },
  {
   "attachments": {},
   "cell_type": "markdown",
   "metadata": {},
   "source": [
    "Maybe in the setting of a fit that uses sensitivities, and where we infer the parameter that the sensitivity depends on?\n"
   ]
  }
 ],
 "metadata": {
  "kernelspec": {
   "display_name": "Python 3 (ipykernel)",
   "language": "python",
   "name": "python3"
  },
  "language_info": {
   "codemirror_mode": {
    "name": "ipython",
    "version": 3
   },
   "file_extension": ".py",
   "mimetype": "text/x-python",
   "name": "python",
   "nbconvert_exporter": "python",
   "pygments_lexer": "ipython3",
   "version": "3.11.3"
  }
 },
 "nbformat": 4,
 "nbformat_minor": 2
}
